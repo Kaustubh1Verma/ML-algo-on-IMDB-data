{
 "cells": [
  {
   "cell_type": "code",
   "execution_count": 44,
   "metadata": {},
   "outputs": [
    {
     "name": "stdout",
     "output_type": "stream",
     "text": [
      "http://www.imdb.com/search/title?year=2017&page=1&ref_=adv_nxt\n",
      "http://www.imdb.com/search/title?year=2017&page=2&ref_=adv_nxt\n",
      "http://www.imdb.com/search/title?year=2017&page=3&ref_=adv_nxt\n",
      "http://www.imdb.com/search/title?year=2017&page=4&ref_=adv_nxt\n",
      "http://www.imdb.com/search/title?year=2017&page=5&ref_=adv_nxt\n",
      "http://www.imdb.com/search/title?year=2017&page=6&ref_=adv_nxt\n",
      "http://www.imdb.com/search/title?year=2017&page=7&ref_=adv_nxt\n",
      "http://www.imdb.com/search/title?year=2017&page=8&ref_=adv_nxt\n",
      "http://www.imdb.com/search/title?year=2017&page=9&ref_=adv_nxt\n",
      "We've found the target article!\n"
     ]
    }
   ],
   "source": [
    "import time\n",
    "import urllib\n",
    "\n",
    "import bs4\n",
    "import requests\n",
    "\n",
    "\n",
    "start_url = \"http://www.imdb.com/search/title?year=2017&page=1&ref_=adv_nxt\"\n",
    "target_url=\"http://www.imdb.com/search/title?year=2017&page=10&ref_=adv_nxt\"\n",
    "\n",
    "title_list = []\n",
    "rating_list = []\n",
    "metascore_list=[]\n",
    "\n",
    "def find_first_link(url):\n",
    "    response = requests.get(url)\n",
    "    html = response.text\n",
    "    soup = bs4.BeautifulSoup(html, \"html.parser\")\n",
    "    content_div = soup.find(class_=\"desc\").find(class_=\"lister-page-next next-page\")\n",
    "\n",
    "    #Section to do work\n",
    "    content_div2 = soup.find_all(class_=\"lister-item-content\")\n",
    "    \n",
    "    for content in content_div2:\n",
    "        \n",
    "        rating_bar = content.find(class_=\"ratings-bar\")\n",
    "        meta_bar = content.find(class_=\"inline-block ratings-metascore\")\n",
    "        if (rating_bar != None) and (meta_bar != None):\n",
    "          rating = content.find(class_=\"ratings-bar\").find(class_=\"inline-block ratings-imdb-rating\").get(\"data-value\")  \n",
    "          \n",
    "          name = content.find(class_=\"lister-item-header\").a.get_text()\n",
    "          title_list.append(name)\n",
    "        \n",
    "          rating_score = float(rating)*10.0\n",
    "          rating_list.append(rating_score)\n",
    "        \n",
    "          metascore_mixed = content.find(class_=\"inline-block ratings-metascore\").find(class_=\"metascore mixed\")\n",
    "          metascore_fav = content.find(class_=\"inline-block ratings-metascore\").find(class_=\"metascore favorable\")\n",
    "          metascore_unfav = content.find(class_=\"inline-block ratings-metascore\").find(class_=\"metascore unfavorable\")\n",
    "             \n",
    "          if metascore_mixed!=None:\n",
    "            metascore_list.append(int(metascore_mixed.get_text()))\n",
    "          elif metascore_fav!=None:\n",
    "            metascore_list.append(int(metascore_fav.get_text()))\n",
    "          elif metascore_unfav!=None:\n",
    "            metascore_list.append(int(metascore_unfav.get_text()))\n",
    "    \n",
    "    article_link = None\n",
    "    article_link = content_div.get('href')\n",
    "\n",
    "    if not article_link:\n",
    "        return\n",
    "    first_link = urllib.parse.urljoin('http://www.imdb.com/search/title', article_link)\n",
    "\n",
    "    return first_link\n",
    "\n",
    "def continue_crawl(search_history, target_url, max_steps=51):\n",
    "    if search_history[-1] == target_url:\n",
    "        print(\"We've found the target article!\")\n",
    "        return False\n",
    "    elif len(search_history) > max_steps:\n",
    "        print(\"The search has gone on suspiciously long, aborting search!\")\n",
    "        return False\n",
    "    elif search_history[-1] in search_history[:-1]:\n",
    "        print(\"We've arrived at an article we've already seen, aborting search!\")\n",
    "        return False\n",
    "    else:\n",
    "        return True\n",
    "\n",
    "article_chain = [start_url]\n",
    "\n",
    "while continue_crawl(article_chain, target_url):\n",
    "    print(article_chain[-1])\n",
    "\n",
    "    first_link = find_first_link(article_chain[-1])\n",
    "    if not first_link:\n",
    "        print(\"We've arrived at an article with no links, aborting search!\")\n",
    "        break\n",
    "    article_chain.append(first_link)\n",
    "    time.sleep(4)"
   ]
  },
  {
   "cell_type": "code",
   "execution_count": 45,
   "metadata": {},
   "outputs": [
    {
     "name": "stdout",
     "output_type": "stream",
     "text": [
      "[80.0, 80.0, 72.0, 83.0, 75.0, 77.0, 80.0, 74.0, 78.0, 65.0, 83.0, 76.0, 83.0, 76.0, 75.0, 87.0, 63.0, 81.0, 81.0, 70.0, 71.0, 72.0, 77.0, 58.0, 59.0, 86.0, 67.0, 69.0, 68.0, 71.0, 72.0, 68.0, 81.0, 51.0, 82.0, 81.0, 68.0, 78.0, 79.0, 65.0, 77.0, 64.0, 73.0, 67.0, 71.0, 78.0, 76.0, 57.0, 68.0, 73.0, 75.0, 77.0, 67.0, 65.0, 79.0, 69.0, 72.0, 67.0, 48.0, 54.0, 70.0, 63.0, 74.0, 51.0, 72.0, 72.0, 54.0, 51.0, 75.0, 62.0, 52.0, 46.0, 56.0, 50.0, 75.0, 49.0, 52.0, 57.0, 57.0, 74.0, 74.0, 62.0, 75.0, 57.0, 62.0, 52.0, 72.0, 69.0, 53.0, 71.0, 66.0, 65.0, 59.0, 64.0, 68.0, 71.0, 66.0, 65.0, 63.0, 60.0, 67.0, 63.0, 55.0, 77.0, 66.0, 62.0, 58.0, 71.0, 74.0, 68.0, 63.0, 57.0, 65.0, 64.0, 63.0, 64.0, 29.0, 61.0, 62.0, 73.0, 75.0, 60.0, 66.0, 67.0, 65.0, 49.0, 63.0, 68.0, 74.0, 58.0, 76.0, 66.0, 70.0, 68.0, 50.0, 64.0, 47.0, 63.0, 72.0, 72.0, 70.0, 63.0, 62.0, 70.0, 80.0, 52.0, 75.0, 64.0, 67.0, 73.0, 63.0, 69.0, 64.0, 63.0, 71.0, 50.0, 51.0, 56.0, 47.0, 68.0, 72.0, 64.0, 79.0, 54.0, 64.0, 56.0, 46.0, 64.0, 79.0, 62.0, 62.0, 72.0, 52.0, 70.0, 69.0, 59.0, 60.0, 69.0, 69.0, 71.0, 76.0, 65.0, 58.0, 58.0, 60.0, 52.0, 69.0, 48.0, 74.0, 63.0, 49.0, 58.0, 62.0, 71.0, 47.0, 52.0, 59.0, 45.0, 56.0, 74.0, 63.0, 60.0, 50.0, 78.0, 72.0, 49.0, 57.0, 56.0, 62.0, 78.0, 56.0, 59.0, 63.0, 63.0, 53.0, 65.0, 52.0, 69.0, 39.0, 71.0, 60.0, 58.0, 67.0, 63.0, 76.0, 62.0, 69.0, 45.0, 59.0, 43.0, 63.0, 64.0, 63.0, 67.0, 70.0, 65.0, 57.0, 62.0, 56.0, 55.0, 64.0, 56.0, 48.0, 63.0, 54.0, 66.0, 51.0, 78.0, 55.0, 64.0, 60.0]\n",
      "['The Shape of Water', 'The Greatest Showman', 'Jumanji: Welcome to the Jungle', 'Three Billboards Outside Ebbing, Missouri', 'Star Wars: Episode VIII - The Last Jedi', 'I, Tonya', 'Lady Bird', 'Darkest Hour', 'The Disaster Artist', 'Bright', 'Blade Runner 2049', \"Molly's Game\", 'Call Me by Your Name', 'It', 'The Post', 'Coco', 'Pitch Perfect 3', 'Dunkirk', 'Thor: Ragnarok', 'Justice League', 'All the Money in the World', 'Hostiles', 'Get Out', 'Downsizing', 'Jigsaw', 'Phantom Thread', 'Pirates of the Caribbean: Dead Men Tell No Tales', 'Kingsman: The Golden Circle', 'Ferdinand', 'The Foreigner', 'American Made', 'Mother!', 'Wonder', 'The Snowman', 'Paddington 2', 'Logan', 'Battle of the Sexes', 'Guardians of the Galaxy Vol. 2', 'The Florida Project', 'Happy Death Day', 'Baby Driver', 'The Mountain Between Us', 'The Killing of a Sacred Deer', 'Murder on the Orient Express', 'Logan Lucky', 'Wind River', 'Wonder Woman', 'A Bad Moms Christmas', 'King Arthur: Legend of the Sword', 'Beauty and the Beast', 'Spider-Man: Homecoming', 'The Big Sick', 'Atomic Blonde', 'Valerian and the City of a Thousand Planets', 'Loving Vincent', 'Seven Sisters', 'Aus dem Nichts', 'Kong: Skull Island', 'The Vault', 'Geostorm', \"The Hitman's Bodyguard\", 'Wonder Wheel', 'You Were Never Really Here', 'Flatliners', 'Brawl in Cell Block 99', 'Goodbye Christopher Robin', 'Beyond Skyline', 'The Strange Ones', 'Mudbound', 'American Assassin', 'Transformers: The Last Knight', 'Fifty Shades Darker', 'Baywatch', \"Devil's Gate\", 'John Wick: Chapter 2', 'Father Figures', 'Rough Night', 'Home Again', 'The Dark Tower', 'Detroit', 'Good Time', 'Mom and Dad', 'War for the Planet of the Apes', 'Blame', \"Daddy's Home 2\", 'November Criminals', 'Marshall', 'A Ghost Story', 'The Circle', 'Stronger', 'Super Dark Times', 'Thank You for Your Service', 'The Polka King', 'Everything, Everything', 'The Fate of the Furious', 'Breathe', 'Life', 'Alien: Covenant', 'Despicable Me 3', 'Power Rangers', \"Gerald's Game\", 'Girls Trip', 'The Mummy', 'The Square', \"Brad's Status\", 'It Comes at Night', 'Goon: Last of the Enforcers', 'Last Flag Flying', 'Shot Caller', 'Cars 3', 'My Little Pony: The Movie', '47 Meters Down', 'Wonderstruck', 'The Boss Baby', 'Mark Felt: The Man Who Brought Down the White House', 'Ghost in the Shell', 'The Emoji Movie', 'Same Kind of Different as Me', 'Captain Underpants: The First Epic Movie', 'The LEGO Batman Movie', 'Lucky', 'The LEGO Ninjago Movie', 'Annabelle: Creation', 'Jungle', 'The Book of Henry', 'Fun Mom Dinner', '1922', 'The Party', 'Okja', 'Table 19', 'Gifted', 'Going in Style', \"The Zookeeper's Wife\", 'Victoria & Abdul', 'Leatherface', 'The Beguiled', 'The Layover', 'Roman J. Israel, Esq.', 'Professor Marston and the Wonder Women', 'The Glass Castle', 'The Meyerowitz Stories (New and Selected)', 'Mayhem', 'Unlocked', 'Borg McEnroe', 'Only the Brave', 'Bullet Head', 'Una Mujer Fantástica', 'Crooked House', 'Ingrid Goes West', 'T2 Trainspotting', 'The Shack', 'The Pirates of Somalia', 'Churchill', 'The Leisure Seeker', 'Flower', 'Hangman', 'Wish Upon', 'Fist Fight', 'Killing Gunther', 'Mugen no jûnin', 'First They Killed My Father', 'Before I Fall', 'Nelyubov', 'Suburbicon', 'Creep 2', 'The House', 'Death Note', 'The Space Between Us', 'Teströl és lélekröl', '6 Days', 'Tulip Fever', 'Thelma', 'xXx: Return of Xander Cage', \"I Don't Feel at Home in This World Anymore.\", 'To the Bone', 'Kidnap', 'CHIPS', \"Mary and The Witch's Flower\", \"Film Stars Don't Die in Liverpool\", 'Megan Leavey', 'The Death of Stalin', 'Rebel in the Rye', 'All Eyez on Me', '24 Hours to Live', 'War Machine', 'Bushwick', \"A Dog's Purpose\", 'Stratton', 'Columbus', 'Berlin Syndrome', 'First Kill', 'Song to Song', 'The Wall', 'Thoroughbreds', 'Ghost House', 'The Nut Job 2: Nutty by Nature', 'The Little Hours', 'Rings', 'This Is Your Death', 'Brigsby Bear', 'Freak Show', 'England Is Mine', 'Unforgettable', \"God's Own Country\", 'Disobedience', 'Amityville: The Awakening', 'The Upside', 'Blind', 'I Love You, Daddy', 'Sidney Hall', 'Sleepless', 'The Star', 'The Only Living Boy in New York', 'Sand Castle', 'Naked', 'The Current War', 'Once Upon a Time in Venice', 'On Chesil Beach', '9/11', 'A Prayer Before Dawn', 'My Cousin Rachel', 'Wilson', 'My Friend Dahmer', 'The Ballad of Lefty Brown', '120 battements par minute', 'Mr. Roosevelt', 'Happy End', 'The Dinner', 'Smurfs: The Lost Village', 'Snatched', 'The Light of the Moon', 'Zhan lang II', 'The Discovery', 'Ak-Nyeo', 'Our Souls at Night', 'Beach Rats', 'Aftermath', 'A Gray State', 'Crash Pad', \"The Hunter's Prayer\", 'Jupiter holdja', 'Hollow in the Land', 'Hickok', \"L'amant double\", 'The Tribes of Palos Verdes', 'The Hero', 'Sandy Wexler', 'Jim & Andy: The Great Beyond - Featuring a Very Special, Contractually Obligated Mention of Tony Clifton', 'Permanent', 'Marjorie Prime', 'The Case for Christ']\n",
      "[86, 48, 58, 88, 85, 77, 94, 75, 76, 29, 81, 71, 93, 69, 83, 81, 40, 94, 74, 45, 73, 65, 84, 63, 39, 90, 39, 44, 58, 55, 65, 75, 66, 23, 88, 77, 73, 67, 92, 57, 86, 48, 73, 52, 78, 73, 76, 42, 41, 65, 73, 86, 63, 51, 62, 47, 63, 62, 50, 21, 47, 45, 88, 27, 79, 54, 46, 57, 85, 45, 27, 33, 37, 37, 75, 23, 51, 41, 34, 77, 80, 63, 82, 54, 30, 31, 66, 84, 43, 76, 75, 68, 65, 52, 56, 51, 54, 65, 49, 44, 77, 71, 34, 72, 71, 78, 48, 66, 59, 59, 39, 52, 71, 50, 49, 52, 12, 49, 69, 75, 79, 55, 62, 48, 31, 46, 70, 74, 75, 40, 60, 50, 57, 58, 40, 77, 15, 58, 68, 56, 79, 62, 46, 57, 72, 51, 94, 59, 71, 67, 32, 54, 44, 49, 51, 31, 32, 37, 53, 72, 72, 58, 90, 42, 75, 30, 43, 33, 71, 36, 38, 74, 42, 75, 64, 44, 28, 75, 64, 66, 88, 46, 38, 38, 56, 44, 43, 26, 89, 70, 39, 54, 57, 79, 33, 36, 69, 25, 35, 68, 55, 45, 45, 85, 81, 42, 56, 36, 56, 19, 34, 42, 33, 45, 36, 42, 28, 64, 20, 73, 63, 49, 68, 63, 84, 73, 73, 57, 40, 45, 76, 44, 55, 64, 69, 78, 44, 74, 46, 35, 56, 54, 49, 64, 49, 61, 40, 77, 41, 82, 50]\n"
     ]
    }
   ],
   "source": [
    "print (rating_list)\n",
    "print (title_list)\n",
    "print (metascore_list)"
   ]
  },
  {
   "cell_type": "code",
   "execution_count": 47,
   "metadata": {},
   "outputs": [],
   "source": [
    "from sklearn.cross_validation import train_test_split\n",
    "feature_train, feature_test, target_train, target_test = train_test_split(rating_list, metascore_list, test_size=0.5, random_state=42)\n",
    "train_color = \"b\"\n",
    "test_color = \"r\""
   ]
  },
  {
   "cell_type": "code",
   "execution_count": 55,
   "metadata": {},
   "outputs": [
    {
     "name": "stdout",
     "output_type": "stream",
     "text": [
      "[60.0, 64.0, 63.0, 68.0, 63.0, 69.0, 70.0, 76.0, 66.0, 74.0, 69.0, 71.0, 75.0, 66.0, 81.0, 79.0, 64.0, 72.0, 74.0, 64.0, 74.0, 45.0, 49.0, 52.0, 71.0, 72.0, 71.0, 79.0, 77.0, 67.0, 63.0, 58.0, 54.0, 60.0, 62.0, 65.0, 64.0, 57.0, 68.0, 63.0, 64.0, 67.0, 52.0, 52.0, 83.0, 62.0, 65.0, 68.0, 59.0, 47.0, 67.0, 73.0, 54.0, 74.0, 82.0, 59.0, 74.0, 72.0, 63.0, 65.0, 57.0, 76.0, 43.0, 71.0, 78.0, 76.0, 54.0, 52.0, 66.0, 81.0, 46.0, 56.0, 58.0, 50.0, 49.0, 64.0, 51.0, 79.0, 71.0, 75.0, 62.0, 69.0, 78.0, 63.0, 78.0, 56.0, 67.0, 62.0, 48.0, 68.0, 53.0, 72.0, 67.0, 78.0, 72.0, 63.0, 48.0, 58.0, 58.0, 78.0, 56.0, 57.0, 80.0, 67.0, 73.0, 76.0, 69.0, 77.0, 60.0, 29.0, 69.0, 50.0, 75.0, 53.0, 56.0, 60.0, 60.0, 71.0, 74.0, 46.0, 58.0, 75.0, 59.0, 71.0, 55.0]\n",
      "............................\n",
      "[28, 33, 49, 73, 45, 64, 79, 71, 61, 68, 44, 51, 85, 62, 66, 71, 82, 68, 88, 77, 75, 57, 39, 27, 79, 79, 78, 90, 86, 48, 49, 63, 49, 56, 63, 57, 56, 42, 56, 63, 58, 52, 51, 42, 88, 78, 51, 58, 40, 33, 64, 65, 42, 80, 88, 42, 75, 74, 39, 68, 54, 84, 45, 76, 76, 69, 21, 28, 50, 94, 43, 37, 49, 40, 42, 44, 27, 62, 66, 73, 56, 64, 19, 70, 77, 36, 68, 36, 50, 41, 43, 65, 62, 85, 72, 64, 26, 54, 40, 67, 37, 44, 48, 63, 67, 60, 54, 72, 44, 12, 84, 45, 75, 36, 34, 55, 50, 73, 89, 33, 48, 83, 65, 66, 34]\n"
     ]
    }
   ],
   "source": [
    "print (feature_train)\n",
    "print (\"............................\")\n",
    "print (target_train)\n",
    "\n"
   ]
  },
  {
   "cell_type": "code",
   "execution_count": 64,
   "metadata": {},
   "outputs": [
    {
     "data": {
      "text/plain": [
       "LinearRegression(copy_X=True, fit_intercept=True, n_jobs=1, normalize=False)"
      ]
     },
     "execution_count": 64,
     "metadata": {},
     "output_type": "execute_result"
    }
   ],
   "source": [
    "import numpy as np\n",
    "\n",
    "from sklearn import linear_model\n",
    "feature_train = np.array(feature_train).reshape(-1,1)\n",
    "feature_test = np.array(feature_test).reshape(-1,1)\n",
    "reg = linear_model.LinearRegression()\n",
    "reg.fit(feature_train,target_train)\n"
   ]
  },
  {
   "cell_type": "code",
   "execution_count": 65,
   "metadata": {},
   "outputs": [
    {
     "name": "stdout",
     "output_type": "stream",
     "text": [
      "[1.31369462]\n",
      "-27.313296383857207\n",
      "0.5478533925253155\n",
      "0.5671298712646738\n"
     ]
    }
   ],
   "source": [
    "print(reg.coef_)\n",
    "print(reg.intercept_)\n",
    "print(reg.score(feature_train,target_train))\n",
    "print(reg.score(feature_test,target_test))"
   ]
  },
  {
   "cell_type": "code",
   "execution_count": 74,
   "metadata": {},
   "outputs": [
    {
     "name": "stdout",
     "output_type": "stream",
     "text": [
      "[77.11959352]\n"
     ]
    }
   ],
   "source": [
    "### draw the scatterplot, with color-coded training and testing points\n",
    "print(reg.predict(78))"
   ]
  },
  {
   "cell_type": "code",
   "execution_count": 78,
   "metadata": {},
   "outputs": [
    {
     "name": "stdout",
     "output_type": "stream",
     "text": [
      "[1.50337298]\n",
      "-40.14349861483213\n",
      "0.5354601174789322\n",
      "0.5771122067609817\n",
      "[1.50337298]\n"
     ]
    },
    {
     "name": "stderr",
     "output_type": "stream",
     "text": [
      "/usr/lib/python3/dist-packages/matplotlib/collections.py:571: FutureWarning: elementwise comparison failed; returning scalar instead, but in the future will perform elementwise comparison\n",
      "  if self._edgecolors == str('face'):\n"
     ]
    }
   ],
   "source": [
    "### draw the scatterplot, with color-coded training and testing points\n",
    "import matplotlib.pyplot as plt\n",
    "for feature, target in zip(feature_test, target_test):\n",
    "    plt.scatter( feature, target, color=test_color ) \n",
    "for feature, target in zip(feature_train, target_train):\n",
    "    plt.scatter( feature, target, color=train_color ) \n",
    "\n",
    "### labels for the legend\n",
    "plt.scatter(feature_test[0], target_test[0], color=test_color, label=\"test\")\n",
    "plt.scatter(feature_test[0], target_test[0], color=train_color, label=\"train\")\n",
    "\n",
    "print(reg.coef_)\n",
    "print(reg.intercept_)\n",
    "print(reg.score(feature_train,target_train))\n",
    "\n",
    "print(reg.score(feature_test,target_test))\n",
    "\n",
    "\n",
    "### draw the regression line, once it's coded\n",
    "try:\n",
    "    plt.plot( feature_test, reg.predict(feature_test) )\n",
    "except NameError:\n",
    "    pass\n",
    "reg.fit(feature_test, target_test)\n",
    "plt.plot(feature_train, reg.predict(feature_train), color=\"b\")\n",
    "print(reg.coef_)\n",
    "plt.xlabel(\"imdb_rating\")\n",
    "plt.ylabel(\"metascore\")\n",
    "plt.legend()\n",
    "plt.show()"
   ]
  },
  {
   "cell_type": "code",
   "execution_count": 76,
   "metadata": {},
   "outputs": [
    {
     "name": "stdout",
     "output_type": "stream",
     "text": [
      "76\n",
      "The Disaster Artist\n",
      "67\n",
      "Guardians of the Galaxy Vol. 2\n",
      "73\n",
      "Wind River\n",
      "85\n",
      "God's Own Country\n",
      "19\n",
      "Sidney Hall\n",
      "77\n",
      "Jim & Andy: The Great Beyond - Featuring a Very Special, Contractually Obligated Mention of Tony Clifton\n"
     ]
    }
   ],
   "source": [
    "for i in range(0,len(rating_list)):\n",
    "    if rating_list[i]==78:\n",
    "        print (metascore_list[i])\n",
    "        print(title_list[i])"
   ]
  },
  {
   "cell_type": "code",
   "execution_count": null,
   "metadata": {},
   "outputs": [],
   "source": []
  }
 ],
 "metadata": {
  "kernelspec": {
   "display_name": "Python 3",
   "language": "python",
   "name": "python3"
  },
  "language_info": {
   "codemirror_mode": {
    "name": "ipython",
    "version": 3
   },
   "file_extension": ".py",
   "mimetype": "text/x-python",
   "name": "python",
   "nbconvert_exporter": "python",
   "pygments_lexer": "ipython3",
   "version": "3.4.2"
  }
 },
 "nbformat": 4,
 "nbformat_minor": 2
}
